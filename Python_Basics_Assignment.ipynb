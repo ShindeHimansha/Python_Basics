{
  "nbformat": 4,
  "nbformat_minor": 0,
  "metadata": {
    "colab": {
      "provenance": []
    },
    "kernelspec": {
      "name": "python3",
      "display_name": "Python 3"
    },
    "language_info": {
      "name": "python"
    }
  },
  "cells": [
    {
      "cell_type": "markdown",
      "source": [
        "1. What is Python, and why is it popular ?\n",
        "  - Python is a programming language that is easy to understand and write, making it a popular choice among developers and programmers.\n",
        "  - It is compatible with various programming paradigms, such as procedural, object-oriented, and functional programming.\n",
        "  - Python has a large and active community of developers, an extensive standard library, and third-party packages for various domains.\n",
        "\n",
        "2. What is an interpreter in Python ?\n",
        "  - An interpreter in Python is a program that reads Python code line by line and then executes it. It translates high-level Python code into machine code that the computer's processor understands and executes.\n",
        "\n",
        "3. What are pre-defined keywords in Python ?\n",
        "  - Keywords are reserved words in Python that have special meanings and cannot be used as identifiers (variable names, function names, etc.).\n",
        "  - Keywords are case-sensitive and cannot be redefined or overridden within a Python program.\n",
        "  - Examples of keywords include if, else, while, for, def, class, import, try etc.\n",
        "4. Can keywords be used as variable names?\n",
        "  - No, keywords cannot be used as variable names in Python. Keywords are predefined words that hold a special meaning in the Python language. Their usage as variable names will cause either syntax errors or some other forms of undefined behavior.\n",
        "5. What is mutability in Python ?\n",
        "  - Mutability in Python refers to the ability of an object to be changed (mutated) after it has been created.\n",
        "  - Mutability affects how objects are stored and manipulated in memory, impacting performance, memory usage, and concurrency in Python programs.\n",
        "  - Mutable objects, such as lists and dictionaries, can be modified after creation, while immutable objects, such as tuples and strings, cannot.\n",
        "\n",
        "6. Why are lists mutable , but tuples are immutable ?\n",
        "  - Lists are ideal for dynamic data that needs frequent changes, such as a to-do list, a collection of items, or data that grows or shrinks during program execution.\n",
        "  - Tuples, on the other hand, are suited for fixed, unchanging data like coordinates, function arguments, or constant values that should remain the same throughout the program. This immutability ensures reliability and prevents accidental modifications.\n",
        "  - Therefore lists are mutable but tuples are immutable.\n",
        "\n",
        "7. What is the difference between \"==\" and \"is\" operators in Python ?\n",
        "  - == (Equality Operator):\n",
        "      - Compares the values of two objects to check if they are equal.\n",
        "      - Checks if the data contained in the objects is the same, regardless of whether they are the same object in memory.\n",
        "\n",
        "  - is (Identity Operator):\n",
        "      - Compares the identity of two objects to check if they are the same object in memory.\n",
        "      - Checks if both variables point to the same memory location (i.e., are the exact same object).\n",
        "\n",
        "  - Therefore the main difference is \"==\" checks if the values of two objects are equal, while \"is\" checks if they refer to the same object in memory.\n",
        "\n",
        "8. What are the logical operators in Python ?\n",
        "  - There are three types of logical operators in Python. They are:-\n",
        "    - and: Returns True if both operands are true.\n",
        "    - or: Returns True if at least one of the operands is true.\n",
        "    - not: Returns True if the operand is false, and False if the operand is true (negates the value).\n",
        "\n",
        "9. What is type casting in Python ?\n",
        "  - Type casting, also referred to as type conversion, is the process of changing one data type to another in Python.\n",
        "  - Python provides built-in functions for type casting, such as int(), float(), str(), list(), tuple(), dict(), etc.\n",
        "  - Type casting is often necessary for performing arithmetic operations, data manipulation, and input/output operations in Python programs.\n",
        "\n",
        "10. What is difference between implicit and explicit type casting ?\n",
        "  - Implicit type casting : also known as automatic type conversion, it is performed by Python when a smaller data type is automatically converted to a larger data type (e.g., int to float), without any explicit instruction from the user.\n",
        "  - Explicit type casting : Also known as manual type conversion, it involves the programmer explicitly converting one data type to another using built-in functions like int(), float(), or str().\n",
        "  - Difference between is Implicit type casting is automatically done by Python for compatible types, while explicit type casting requires the programmer to manually convert one type to another.\n",
        "\n",
        "11. What is the purpose of conditional statements in Python ?\n",
        "  - Conditionals in Python are used to execute code based on the evaluation of one or more conditions\n",
        "  .\n",
        "  - Python supports conditional statements such as if, elif (else if), and else to control the flow of execution.\n",
        "  - Conditionals can be nested to handle multiple conditions and control different branches of execution based on the outcome of logical expressions.\n",
        "\n",
        "12. How does elif statement work ?\n",
        "  - The elif statement is used to check multiple conditions after an initial if statement. It allows us to check more than one condition and execute corresponding code blocks.\n",
        "\n",
        "  - Execution Flow:\n",
        "      - The program first evaluates the condition in the if statement.\n",
        "      - If the if condition is not met, then it moves on to the next elif   condition.\n",
        "      - If an elif condition is true, the associated code block is executed.\n",
        "      - If none of the if or elif conditions are true, then the else block, if  defined, will be executed.\n",
        "\n",
        "13. What is the difference between for and while loops ?\n",
        "  - for loop: It is used when the number of iterations is known or can be determined beforehand. It iterates over a sequence (like a list, tuple, or range) and performs actions on each item.\n",
        "  - while loop: It is used when the number of iterations is not known and depends on a condition. The loop continues as long as the condition is True.\n",
        "  - Therefore difference between these 2 loops is The for loop iterates over a sequence or a range, while the while loop continues as long as a specified condition is true.\n",
        "\n",
        "14. Describe a scenario where a while loop is more suitable than a for loop ?\n",
        "  - A while loop is more suitable when the number of iterations is not known beforehand and depends on a dynamic condition.\n",
        "\n",
        "  - Scenario: A while loop is ideal for situations like repeatedly asking a user for input until they provide a valid response, such as a password that meets specific criteria .\n",
        "    - example:-\n",
        "    password = \"\"\n",
        "    while len(password) < 8:\n",
        "    password = input(\"Enter a password (at least 8 characters): \")\n",
        "    print(\"Password accepted!\")\n",
        "\n",
        "  - Here, the loop continues until the user enters a password with 8 or more characters, making it more suitable than a for loop, where the number of iterations would need to be predefined."
      ],
      "metadata": {
        "id": "mXCmt_ptf1TP"
      }
    },
    {
      "cell_type": "code",
      "source": [
        "# 1. Write a python program to print \"Hello, World!\"\n",
        "\n",
        "print(\"Hello, World!\")"
      ],
      "metadata": {
        "colab": {
          "base_uri": "https://localhost:8080/"
        },
        "id": "yeQr6lFGNqsX",
        "outputId": "36061112-d811-4af2-e70a-c12149a103a1"
      },
      "execution_count": 1,
      "outputs": [
        {
          "output_type": "stream",
          "name": "stdout",
          "text": [
            "Hello, World!\n"
          ]
        }
      ]
    },
    {
      "cell_type": "code",
      "source": [
        "# 2. Write a python program that displays your name and age\n",
        "\n",
        "name = input(\"Enter your name:\")\n",
        "age  = input(\"Enter your age:\")\n",
        "print(f\"My name is {name} and my age is {age}\")\n",
        "\n",
        "\n"
      ],
      "metadata": {
        "colab": {
          "base_uri": "https://localhost:8080/"
        },
        "id": "NEFn2nu5PONk",
        "outputId": "0c049e31-6921-4ade-a3b0-2ee8726e9e35"
      },
      "execution_count": 4,
      "outputs": [
        {
          "output_type": "stream",
          "name": "stdout",
          "text": [
            "Enter your name:Onkar \n",
            "Enter your age:19\n",
            "My name is Onkar  and my age is 19\n"
          ]
        }
      ]
    },
    {
      "cell_type": "code",
      "source": [
        "# 3. Write a code to print all the pre-defined keywords in python using keyword library\n",
        "import keyword\n",
        "keywords = keyword.kwlist\n",
        "print(\"List of Python keywords:\")\n",
        "for kw in keywords:\n",
        "    print(kw)"
      ],
      "metadata": {
        "colab": {
          "base_uri": "https://localhost:8080/"
        },
        "id": "FUf4sZONbX7X",
        "outputId": "0f849492-c2f1-4054-c0b8-f0b79c0aeace"
      },
      "execution_count": 18,
      "outputs": [
        {
          "output_type": "stream",
          "name": "stdout",
          "text": [
            "List of Python keywords:\n",
            "False\n",
            "None\n",
            "True\n",
            "and\n",
            "as\n",
            "assert\n",
            "async\n",
            "await\n",
            "break\n",
            "class\n",
            "continue\n",
            "def\n",
            "del\n",
            "elif\n",
            "else\n",
            "except\n",
            "finally\n",
            "for\n",
            "from\n",
            "global\n",
            "if\n",
            "import\n",
            "in\n",
            "is\n",
            "lambda\n",
            "nonlocal\n",
            "not\n",
            "or\n",
            "pass\n",
            "raise\n",
            "return\n",
            "try\n",
            "while\n",
            "with\n",
            "yield\n"
          ]
        }
      ]
    },
    {
      "cell_type": "code",
      "source": [
        "# 4. Write a program that checks if a given word is a python keyword\n",
        "import keyword\n",
        "word = input(\"Enter a word to check if it's a Python keyword: \")\n",
        "if keyword.iskeyword(word):\n",
        "    print(f\"'{word}' is a Python keyword.\")\n",
        "else:\n",
        "    print(f\"'{word}' is NOT a Python keyword.\")"
      ],
      "metadata": {
        "colab": {
          "base_uri": "https://localhost:8080/"
        },
        "id": "cDzNIHRkQuyp",
        "outputId": "d49e372f-bf99-4316-c879-23afaef655ee"
      },
      "execution_count": 6,
      "outputs": [
        {
          "output_type": "stream",
          "name": "stdout",
          "text": [
            "Enter a word to check if it's a Python keyword: try\n",
            "'try' is a Python keyword.\n"
          ]
        }
      ]
    },
    {
      "cell_type": "code",
      "source": [
        "# 5. Create a list and tuple in python , and demonstrate how attempting to change an element works differently for each\n",
        "\n",
        "\n",
        "list1 = [10, 20, 30]\n",
        "print(\"Original List:\", list1)\n",
        "list1[1] = 25\n",
        "print(\"Modified List:\", list1)\n",
        "tuple1 = (10, 20, 30)\n",
        "print(\"\\nOriginal Tuple:\", tuple1)\n",
        "try:\n",
        "    tuple1[1] = 25\n",
        "except TypeError as e:\n",
        "    print(\"Error when trying to modify tuple:\", e)"
      ],
      "metadata": {
        "colab": {
          "base_uri": "https://localhost:8080/"
        },
        "id": "aOhz66d6RN6J",
        "outputId": "7d8e33dd-bc93-4f75-eef6-ec867c4f3698"
      },
      "execution_count": 7,
      "outputs": [
        {
          "output_type": "stream",
          "name": "stdout",
          "text": [
            "Original List: [10, 20, 30]\n",
            "Modified List: [10, 25, 30]\n",
            "\n",
            "Original Tuple: (10, 20, 30)\n",
            "Error when trying to modify tuple: 'tuple' object does not support item assignment\n"
          ]
        }
      ]
    },
    {
      "cell_type": "code",
      "source": [
        "# 6,7. Write a function to demonstrate  the behavior of mutable and immutable arguments\n",
        "\n",
        "def modify_values(immutable, mutable):\n",
        "    immutable += 10\n",
        "    print(\"Inside function - Immutable:\", immutable)\n",
        "    mutable.append(4)\n",
        "    print(\"Inside function - Mutable:\", mutable)\n",
        "\n",
        "\n",
        "num = 5\n",
        "my_list = [1, 2, 3]\n",
        "\n",
        "print(\"Before function call:\")\n",
        "print(\"Immutable:\", num)\n",
        "print(\"Mutable:\", my_list)\n",
        "\n",
        "modify_values(num, my_list)\n",
        "\n",
        "print(\"\\nAfter function call:\")\n",
        "print(\"Immutable:\", num)\n",
        "print(\"Mutable:\", my_list)\n",
        "\n"
      ],
      "metadata": {
        "colab": {
          "base_uri": "https://localhost:8080/"
        },
        "id": "C3KMHONLSSIj",
        "outputId": "37196e0a-ccad-43ed-8854-b1d23a93508d"
      },
      "execution_count": 8,
      "outputs": [
        {
          "output_type": "stream",
          "name": "stdout",
          "text": [
            "Before function call:\n",
            "Immutable: 5\n",
            "Mutable: [1, 2, 3]\n",
            "Inside function - Immutable: 15\n",
            "Inside function - Mutable: [1, 2, 3, 4]\n",
            "\n",
            "After function call:\n",
            "Immutable: 5\n",
            "Mutable: [1, 2, 3, 4]\n"
          ]
        }
      ]
    },
    {
      "cell_type": "code",
      "source": [
        "# 8. Write a program to demonstrate the use of logical operators\n",
        "\n",
        "age = int(input(\"Enter your age: \"))\n",
        "citizen = input(\"Are you a citizen (yes/no)? \").strip().lower()\n",
        "\n",
        "if age >= 18 and citizen == \"yes\":   # Both conditions must be True for the result to be True.\n",
        "    print(\"You are eligible to vote.\")\n",
        "else:\n",
        "    print(\"You are not eligible to vote.\")\n",
        "\n",
        "if age < 18 or citizen == \"no\": # At least one condition must be True for the result to be True.\n",
        "    print(\"You cannot run for election.\")\n",
        "else:\n",
        "    print(\"You are eligible to run for election.\")\n",
        "\n",
        "is_minor = not (age >= 18) # Reverses the logical state of its operand.\n",
        "if is_minor:\n",
        "    print(\"You are a minor.\")\n",
        "else:\n",
        "    print(\"You are not a minor.\")\n"
      ],
      "metadata": {
        "colab": {
          "base_uri": "https://localhost:8080/"
        },
        "id": "sLpJodinTe5u",
        "outputId": "4c308bd7-8a05-4dba-f8cf-799684f232f6"
      },
      "execution_count": 9,
      "outputs": [
        {
          "output_type": "stream",
          "name": "stdout",
          "text": [
            "Enter your age: 18\n",
            "Are you a citizen (yes/no)? yes\n",
            "You are eligible to vote.\n",
            "You are eligible to run for election.\n",
            "You are not a minor.\n"
          ]
        }
      ]
    },
    {
      "cell_type": "code",
      "source": [
        "# 9. Write a Python program to convert user input from string to integer, float and boolean types\n",
        "\n",
        "a = input(\"Enter a value: \")\n",
        "\n",
        "int_value = int(a)\n",
        "print(f\"Converted to integer: {int_value}\")"
      ],
      "metadata": {
        "colab": {
          "base_uri": "https://localhost:8080/",
          "height": 228
        },
        "id": "BA8UoxKxUkiM",
        "outputId": "45649e89-379f-4815-f14b-ce3875733a32"
      },
      "execution_count": 11,
      "outputs": [
        {
          "name": "stdout",
          "output_type": "stream",
          "text": [
            "Enter a value: hello\n"
          ]
        },
        {
          "output_type": "error",
          "ename": "ValueError",
          "evalue": "invalid literal for int() with base 10: 'hello'",
          "traceback": [
            "\u001b[0;31m---------------------------------------------------------------------------\u001b[0m",
            "\u001b[0;31mValueError\u001b[0m                                Traceback (most recent call last)",
            "\u001b[0;32m<ipython-input-11-ca83d0fbe6cf>\u001b[0m in \u001b[0;36m<cell line: 5>\u001b[0;34m()\u001b[0m\n\u001b[1;32m      3\u001b[0m \u001b[0ma\u001b[0m \u001b[0;34m=\u001b[0m \u001b[0minput\u001b[0m\u001b[0;34m(\u001b[0m\u001b[0;34m\"Enter a value: \"\u001b[0m\u001b[0;34m)\u001b[0m\u001b[0;34m\u001b[0m\u001b[0;34m\u001b[0m\u001b[0m\n\u001b[1;32m      4\u001b[0m \u001b[0;34m\u001b[0m\u001b[0m\n\u001b[0;32m----> 5\u001b[0;31m \u001b[0mint_value\u001b[0m \u001b[0;34m=\u001b[0m \u001b[0mint\u001b[0m\u001b[0;34m(\u001b[0m\u001b[0ma\u001b[0m\u001b[0;34m)\u001b[0m\u001b[0;34m\u001b[0m\u001b[0;34m\u001b[0m\u001b[0m\n\u001b[0m\u001b[1;32m      6\u001b[0m \u001b[0mprint\u001b[0m\u001b[0;34m(\u001b[0m\u001b[0;34mf\"Converted to integer: {int_value}\"\u001b[0m\u001b[0;34m)\u001b[0m\u001b[0;34m\u001b[0m\u001b[0;34m\u001b[0m\u001b[0m\n\u001b[1;32m      7\u001b[0m \u001b[0;34m\u001b[0m\u001b[0m\n",
            "\u001b[0;31mValueError\u001b[0m: invalid literal for int() with base 10: 'hello'"
          ]
        }
      ]
    },
    {
      "cell_type": "code",
      "source": [
        "# 9. Write a Python program to convert user input from string to integer, float and boolean types\n",
        "\n",
        "float_value = float(a)\n",
        "print(f\"Converted to float: {float_value}\")"
      ],
      "metadata": {
        "colab": {
          "base_uri": "https://localhost:8080/",
          "height": 159
        },
        "id": "WHx_fGxnXEm8",
        "outputId": "06eec9bf-7658-4fdb-a6d6-441581276b63"
      },
      "execution_count": 12,
      "outputs": [
        {
          "output_type": "error",
          "ename": "ValueError",
          "evalue": "could not convert string to float: 'hello'",
          "traceback": [
            "\u001b[0;31m---------------------------------------------------------------------------\u001b[0m",
            "\u001b[0;31mValueError\u001b[0m                                Traceback (most recent call last)",
            "\u001b[0;32m<ipython-input-12-9f3f31339fa8>\u001b[0m in \u001b[0;36m<cell line: 1>\u001b[0;34m()\u001b[0m\n\u001b[0;32m----> 1\u001b[0;31m \u001b[0mfloat_value\u001b[0m \u001b[0;34m=\u001b[0m \u001b[0mfloat\u001b[0m\u001b[0;34m(\u001b[0m\u001b[0ma\u001b[0m\u001b[0;34m)\u001b[0m\u001b[0;34m\u001b[0m\u001b[0;34m\u001b[0m\u001b[0m\n\u001b[0m\u001b[1;32m      2\u001b[0m \u001b[0mprint\u001b[0m\u001b[0;34m(\u001b[0m\u001b[0;34mf\"Converted to float: {float_value}\"\u001b[0m\u001b[0;34m)\u001b[0m\u001b[0;34m\u001b[0m\u001b[0;34m\u001b[0m\u001b[0m\n",
            "\u001b[0;31mValueError\u001b[0m: could not convert string to float: 'hello'"
          ]
        }
      ]
    },
    {
      "cell_type": "code",
      "source": [
        "# 9. Write a Python program to convert user input from string to integer, float and boolean types\n",
        "\n",
        "bool_value = bool(a)\n",
        "print(f\"Converted to boolean: {bool_value}\")"
      ],
      "metadata": {
        "colab": {
          "base_uri": "https://localhost:8080/"
        },
        "id": "Sk_FZX2ZXFmB",
        "outputId": "e993ad36-85e1-43da-be69-12f3963e0afa"
      },
      "execution_count": 13,
      "outputs": [
        {
          "output_type": "stream",
          "name": "stdout",
          "text": [
            "Converted to boolean: True\n"
          ]
        }
      ]
    },
    {
      "cell_type": "code",
      "source": [
        "# 10. Write a code to demonstrate type casting with list elements\n",
        "\n",
        "\n",
        "string_list = [\"1\", \"2\", \"3\", \"4.5\", \"6.9\"]\n",
        "\n",
        "int_list = [int(x) if '.' not in x else float(x) for x in string_list]\n",
        "\n",
        "float_list = [float(x) for x in string_list]\n",
        "\n",
        "bool_list = [bool(x) for x in string_list]\n",
        "\n",
        "print(\"Original List:\", string_list)\n",
        "print(\"Converted to Integers/Float:\", int_list)\n",
        "print(\"Converted to Floats:\", float_list)\n",
        "print(\"Converted to Booleans:\", bool_list)\n",
        "\n"
      ],
      "metadata": {
        "colab": {
          "base_uri": "https://localhost:8080/"
        },
        "id": "89Plj43qXSoy",
        "outputId": "9d602de1-c1c1-4841-a705-3da9a23cd9c8"
      },
      "execution_count": 16,
      "outputs": [
        {
          "output_type": "stream",
          "name": "stdout",
          "text": [
            "Original List: ['1', '2', '3', '4.5', '6.9']\n",
            "Converted to Integers/Float: [1, 2, 3, 4.5, 6.9]\n",
            "Converted to Floats: [1.0, 2.0, 3.0, 4.5, 6.9]\n",
            "Converted to Booleans: [True, True, True, True, True]\n"
          ]
        }
      ]
    },
    {
      "cell_type": "code",
      "source": [
        "# 11. Write a program that checks if the number is positive, negative or zero\n",
        "\n",
        "num = float(input(\"Enter a number: \"))\n",
        "\n",
        "if num > 0:\n",
        "    print(\"The number is positive.\")\n",
        "elif num < 0:\n",
        "    print(\"The number is negative.\")\n",
        "else:\n",
        "    print(\"The number is zero.\")"
      ],
      "metadata": {
        "colab": {
          "base_uri": "https://localhost:8080/"
        },
        "id": "mLp-hhvibd1B",
        "outputId": "6abd0ff5-8773-411a-9d9c-8dd659e34813"
      },
      "execution_count": 20,
      "outputs": [
        {
          "output_type": "stream",
          "name": "stdout",
          "text": [
            "Enter a number: 0\n",
            "The number is zero.\n"
          ]
        }
      ]
    },
    {
      "cell_type": "code",
      "source": [
        "# 12. Write a for loop to print numbers from 1 to 10\n",
        "\n",
        "for num in range(1,11):\n",
        "  print(num)"
      ],
      "metadata": {
        "colab": {
          "base_uri": "https://localhost:8080/"
        },
        "id": "kqy5KnLMbhFE",
        "outputId": "460c05f8-5681-4b2b-bd7c-ea259aeb93a2"
      },
      "execution_count": 22,
      "outputs": [
        {
          "output_type": "stream",
          "name": "stdout",
          "text": [
            "1\n",
            "2\n",
            "3\n",
            "4\n",
            "5\n",
            "6\n",
            "7\n",
            "8\n",
            "9\n",
            "10\n"
          ]
        }
      ]
    },
    {
      "cell_type": "code",
      "source": [
        "# 13. Write a Python program to find sum of all even numbers from 1 to 50\n",
        "\n",
        "sum_even=0\n",
        "for num in range(1,51):\n",
        "  if num % 2==0:\n",
        "    sum_even+=num\n",
        "print(sum_even)"
      ],
      "metadata": {
        "colab": {
          "base_uri": "https://localhost:8080/"
        },
        "id": "KGq6157Wb2iR",
        "outputId": "29d80a41-4ca7-4a5e-ceb9-a98530c6097d"
      },
      "execution_count": 26,
      "outputs": [
        {
          "output_type": "stream",
          "name": "stdout",
          "text": [
            "650\n"
          ]
        }
      ]
    },
    {
      "cell_type": "code",
      "source": [
        "# 14. Write a program to reverse a string using while loop\n",
        "\n",
        "a=input(\"Enter a string:\")\n",
        "reversed_string=\"\"\n",
        "index= len(a)-1\n",
        "while index >= 0:\n",
        "  reversed_string+=a[index]\n",
        "  index -= 1\n",
        "print(reversed_string)"
      ],
      "metadata": {
        "colab": {
          "base_uri": "https://localhost:8080/"
        },
        "id": "I7TGqX7ccj53",
        "outputId": "d13806e2-7690-4e2e-b43a-640f3592168a"
      },
      "execution_count": 28,
      "outputs": [
        {
          "output_type": "stream",
          "name": "stdout",
          "text": [
            "Enter a string:hello\n",
            "olleh\n"
          ]
        }
      ]
    },
    {
      "cell_type": "code",
      "source": [
        "# 15. Write a program to calculate the factorial of a number provided by user using while loop\n",
        "\n",
        "num = int(input(\"Enter a number to find its factorial: \"))\n",
        "factorial = 1\n",
        "\n",
        "if num < 0:\n",
        "    print(\"Factorial is not defined for negative numbers.\")\n",
        "else:\n",
        "    while num > 0:\n",
        "        factorial *= num\n",
        "        num -= 1\n",
        "    print(\"The factorial is:\", factorial)"
      ],
      "metadata": {
        "colab": {
          "base_uri": "https://localhost:8080/"
        },
        "id": "R1HlmACQdZ_d",
        "outputId": "1e5bcc98-9159-4652-960f-e75e8de6db58"
      },
      "execution_count": 29,
      "outputs": [
        {
          "output_type": "stream",
          "name": "stdout",
          "text": [
            "Enter a number to find its factorial: 5\n",
            "The factorial is: 120\n"
          ]
        }
      ]
    }
  ]
}